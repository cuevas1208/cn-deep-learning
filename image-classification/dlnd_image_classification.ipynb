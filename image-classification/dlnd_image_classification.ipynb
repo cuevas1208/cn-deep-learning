{
 "cells": [
  {
   "cell_type": "markdown",
   "metadata": {
    "collapsed": true
   },
   "source": [
    "# 图像分类\n",
    "\n",
    "在此项目中，你将对 [CIFAR-10 数据集](https://www.cs.toronto.edu/~kriz/cifar.html) 中的图片进行分类。该数据集包含飞机、猫狗和其他物体。你需要预处理这些图片，然后用所有样本训练一个卷积神经网络。图片需要标准化（normalized），标签需要采用 one-hot 编码。你需要应用所学的知识构建卷积的、最大池化（max pooling）、丢弃（dropout）和完全连接（fully connected）的层。最后，你需要在样本图片上看到神经网络的预测结果。\n",
    "\n",
    "\n",
    "## 获取数据\n",
    "\n",
    "请运行以下单元，以下载 [CIFAR-10 数据集（Python版）](https://www.cs.toronto.edu/~kriz/cifar-10-python.tar.gz)。\n"
   ]
  },
  {
   "cell_type": "code",
   "execution_count": 1,
   "metadata": {},
   "outputs": [
    {
     "name": "stdout",
     "output_type": "stream",
     "text": [
      "All files found!\n"
     ]
    }
   ],
   "source": [
    "\"\"\"\n",
    "DON'T MODIFY ANYTHING IN THIS CELL THAT IS BELOW THIS LINE\n",
    "\"\"\"\n",
    "from urllib.request import urlretrieve\n",
    "from os.path import isfile, isdir\n",
    "from tqdm import tqdm\n",
    "import problem_unittests as tests\n",
    "import tarfile\n",
    "\n",
    "cifar10_dataset_folder_path = 'cifar-10-batches-py'\n",
    "\n",
    "# Use Floyd's cifar-10 dataset if present\n",
    "floyd_cifar10_location = '/input/cifar-10/python.tar.gz'\n",
    "if isfile(floyd_cifar10_location):\n",
    "    tar_gz_path = floyd_cifar10_location\n",
    "else:\n",
    "    tar_gz_path = 'cifar-10-python.tar.gz'\n",
    "\n",
    "class DLProgress(tqdm):\n",
    "    last_block = 0\n",
    "\n",
    "    def hook(self, block_num=1, block_size=1, total_size=None):\n",
    "        self.total = total_size\n",
    "        self.update((block_num - self.last_block) * block_size)\n",
    "        self.last_block = block_num\n",
    "\n",
    "if not isfile(tar_gz_path):\n",
    "    with DLProgress(unit='B', unit_scale=True, miniters=1, desc='CIFAR-10 Dataset') as pbar:\n",
    "        urlretrieve(\n",
    "            'https://www.cs.toronto.edu/~kriz/cifar-10-python.tar.gz',\n",
    "            tar_gz_path,\n",
    "            pbar.hook)\n",
    "\n",
    "if not isdir(cifar10_dataset_folder_path):\n",
    "    with tarfile.open(tar_gz_path) as tar:\n",
    "        tar.extractall()\n",
    "        tar.close()\n",
    "\n",
    "\n",
    "tests.test_folder_path(cifar10_dataset_folder_path)"
   ]
  },
  {
   "cell_type": "markdown",
   "metadata": {},
   "source": [
    "## 探索数据\n",
    "\n",
    "该数据集分成了几部分／批次（batches），以免你的机器在计算时内存不足。CIFAR-10 数据集包含 5 个部分，名称分别为 `data_batch_1`、`data_batch_2`，以此类推。每个部分都包含以下某个类别的标签和图片：\n",
    "\n",
    "* 飞机\n",
    "* 汽车\n",
    "* 鸟类\n",
    "* 猫\n",
    "* 鹿\n",
    "* 狗\n",
    "* 青蛙\n",
    "* 马\n",
    "* 船只\n",
    "* 卡车\n",
    "\n",
    "了解数据集也是对数据进行预测的必经步骤。你可以通过更改 `batch_id` 和 `sample_id` 探索下面的代码单元。`batch_id` 是数据集一个部分的 ID（1 到 5）。`sample_id` 是该部分中图片和标签对（label pair）的 ID。\n",
    "\n",
    "问问你自己：“可能的标签有哪些？”、“图片数据的值范围是多少？”、“标签是按顺序排列，还是随机排列的？”。思考类似的问题，有助于你预处理数据，并使预测结果更准确。\n"
   ]
  },
  {
   "cell_type": "code",
   "execution_count": 2,
   "metadata": {},
   "outputs": [
    {
     "name": "stdout",
     "output_type": "stream",
     "text": [
      "\n",
      "Stats of batch 1:\n",
      "Samples: 10000\n",
      "Label Counts: {0: 1005, 1: 974, 2: 1032, 3: 1016, 4: 999, 5: 937, 6: 1030, 7: 1001, 8: 1025, 9: 981}\n",
      "First 20 Labels: [6, 9, 9, 4, 1, 1, 2, 7, 8, 3, 4, 7, 7, 2, 9, 9, 9, 3, 2, 6]\n",
      "\n",
      "Example of Image 5:\n",
      "Image - Min Value: 0 Max Value: 252\n",
      "Image - Shape: (32, 32, 3)\n",
      "Label - Label Id: 1 Name: automobile\n"
     ]
    },
    {
     "data": {
      "image/png": "[encoded data removed]",
      "text/plain": [
       "<matplotlib.figure.Figure at 0x7f0222ca7fd0>"
      ]
     },
     "metadata": {
      "image/png": {
       "height": 250,
       "width": 253
      }
     },
     "output_type": "display_data"
    }
   ],
   "source": [
    "%matplotlib inline\n",
    "%config InlineBackend.figure_format = 'retina'\n",
    "\n",
    "import helper\n",
    "import numpy as np\n",
    "\n",
    "# Explore the dataset\n",
    "batch_id = 1\n",
    "sample_id = 5\n",
    "helper.display_stats(cifar10_dataset_folder_path, batch_id, sample_id)"
   ]
  },
  {
   "cell_type": "markdown",
   "metadata": {},
   "source": [
    "## 实现预处理函数\n",
    "\n",
    "### 标准化\n",
    "\n",
    "在下面的单元中，实现 `normalize` 函数，传入图片数据 `x`，并返回标准化 Numpy 数组。值应该在 0 到 1 的范围内（含 0 和 1）。返回对象应该和 `x` 的形状一样。\n"
   ]
  },
  {
   "cell_type": "code",
   "execution_count": 3,
   "metadata": {},
   "outputs": [
    {
     "name": "stdout",
     "output_type": "stream",
     "text": [
      "Tests Passed\n"
     ]
    }
   ],
   "source": [
    "def normalize(x):\n",
    "    \"\"\"\n",
    "    Normalize a list of sample image data in the range of 0 to 1\n",
    "    : x: List of image data.  The image shape is (32, 32, 3)\n",
    "    : return: Numpy array of normalize data\n",
    "    \"\"\"\n",
    "    # Turn python list into numpy array.\n",
    "    x = np.array(x)\n",
    "    \n",
    "    # Do normalization.\n",
    "    x_normalized = (x - np.min(x)) / (np.max(x) - np.min(x))\n",
    "    \n",
    "    return x_normalized\n",
    "\n",
    "\n",
    "\"\"\"\n",
    "DON'T MODIFY ANYTHING IN THIS CELL THAT IS BELOW THIS LINE\n",
    "\"\"\"\n",
    "tests.test_normalize(normalize)"
   ]
  },
  {
   "cell_type": "markdown",
   "metadata": {},
   "source": [
    "### One-hot 编码\n",
    "\n",
    "和之前的代码单元一样，你将为预处理实现一个函数。这次，你将实现 `one_hot_encode` 函数。输入，也就是 `x`，是一个标签列表。实现该函数，以返回为 one_hot 编码的 Numpy 数组的标签列表。标签的可能值为 0 到 9。每次调用 `one_hot_encode` 时，对于每个值，one_hot 编码函数应该返回相同的编码。确保将编码映射保存到该函数外面。\n",
    "\n",
    "提示：不要重复发明轮子。\n"
   ]
  },
  {
   "cell_type": "code",
   "execution_count": 4,
   "metadata": {},
   "outputs": [
    {
     "name": "stdout",
     "output_type": "stream",
     "text": [
      "Tests Passed\n"
     ]
    }
   ],
   "source": [
    "def one_hot_encode(x):\n",
    "    \"\"\"\n",
    "    One hot encode a list of sample labels. Return a one-hot encoded vector for each label.\n",
    "    : x: List of sample Labels\n",
    "    : return: Numpy array of one-hot encoded labels\n",
    "    \"\"\"    \n",
    "    # Use label as index, this should assert all labels are int numbers.\n",
    "    for label in x:\n",
    "        assert type(label) in [np.int64, int], \"Input should be numpy.int64.\"\n",
    "        \n",
    "    # Code initialization as zeros.\n",
    "    code_array = np.zeros([len(x), 10])\n",
    "    \n",
    "    # Encode by one-hot policy.\n",
    "    for idx in range(len(x)):\n",
    "        code_array[idx][x[idx]] = 1        \n",
    "    \n",
    "    return code_array\n",
    "\n",
    "\n",
    "\"\"\"\n",
    "DON'T MODIFY ANYTHING IN THIS CELL THAT IS BELOW THIS LINE\n",
    "\"\"\"\n",
    "tests.test_one_hot_encode(one_hot_encode)"
   ]
  },
  {
   "cell_type": "markdown",
   "metadata": {},
   "source": [
    "### 随机化数据\n",
    "\n",
    "之前探索数据时，你已经了解到，样本的顺序是随机的。再随机化一次也不会有什么关系，但是对于这个数据集没有必要。\n"
   ]
  },
  {
   "cell_type": "markdown",
   "metadata": {},
   "source": [
    "## 预处理所有数据并保存\n",
    "\n",
    "运行下方的代码单元，将预处理所有 CIFAR-10 数据，并保存到文件中。下面的代码还使用了 10% 的训练数据，用来验证。\n"
   ]
  },
  {
   "cell_type": "code",
   "execution_count": 5,
   "metadata": {},
   "outputs": [],
   "source": [
    "\"\"\"\n",
    "DON'T MODIFY ANYTHING IN THIS CELL\n",
    "\"\"\"\n",
    "# Preprocess Training, Validation, and Testing Data\n",
    "helper.preprocess_and_save_data(cifar10_dataset_folder_path, normalize, one_hot_encode)"
   ]
  },
  {
   "cell_type": "markdown",
   "metadata": {},
   "source": [
    "# 检查点\n",
    "\n",
    "这是你的第一个检查点。如果你什么时候决定再回到该记事本，或需要重新启动该记事本，你可以从这里开始。预处理的数据已保存到本地。\n"
   ]
  },
  {
   "cell_type": "code",
   "execution_count": 6,
   "metadata": {
    "collapsed": true
   },
   "outputs": [],
   "source": [
    "\"\"\"\n",
    "DON'T MODIFY ANYTHING IN THIS CELL\n",
    "\"\"\"\n",
    "import pickle\n",
    "import problem_unittests as tests\n",
    "import helper\n",
    "\n",
    "# Load the Preprocessed Validation data\n",
    "valid_features, valid_labels = pickle.load(open('preprocess_validation.p', mode='rb'))"
   ]
  },
  {
   "cell_type": "markdown",
   "metadata": {},
   "source": [
    "## 构建网络\n",
    "\n",
    "对于该神经网络，你需要将每层都构建为一个函数。你看到的大部分代码都位于函数外面。要更全面地测试你的代码，我们需要你将每层放入一个函数中。这样使我们能够提供更好的反馈，并使用我们的统一测试检测简单的错误，然后再提交项目。\n",
    "\n",
    ">**注意**：如果你觉得每周很难抽出足够的时间学习这门课程，我们为此项目提供了一个小捷径。对于接下来的几个问题，你可以使用 [TensorFlow Layers](https://www.tensorflow.org/api_docs/python/tf/layers) 或 [TensorFlow Layers (contrib)](https://www.tensorflow.org/api_guides/python/contrib.layers) 程序包中的类来构建每个层级，但是“卷积和最大池化层级”部分的层级除外。TF Layers 和 Keras 及 TFLearn 层级类似，因此很容易学会。\n",
    "\n",
    ">但是，如果你想充分利用这门课程，请尝试自己解决所有问题，不使用 TF Layers 程序包中的任何类。你依然可以使用其他程序包中的类，这些类和你在 TF Layers 中的类名称是一样的！例如，你可以使用 TF Neural Network 版本的 `conv2d` 类 [tf.nn.conv2d](https://www.tensorflow.org/api_docs/python/tf/nn/conv2d)，而不是 TF Layers 版本的 `conv2d` 类 [tf.layers.conv2d](https://www.tensorflow.org/api_docs/python/tf/layers/conv2d)。\n",
    "\n",
    "我们开始吧！\n",
    "\n",
    "\n",
    "### 输入\n",
    "\n",
    "神经网络需要读取图片数据、one-hot 编码标签和丢弃保留概率（dropout keep probability）。请实现以下函数：\n",
    "\n",
    "* 实现 `neural_net_image_input`\n",
    " * 返回 [TF Placeholder](https://www.tensorflow.org/api_docs/python/tf/placeholder)\n",
    " * 使用 `image_shape` 设置形状，部分大小设为 `None`\n",
    " * 使用 [TF Placeholder](https://www.tensorflow.org/api_docs/python/tf/placeholder) 中的 TensorFlow `name` 参数对 TensorFlow 占位符 \"x\" 命名\n",
    "* 实现 `neural_net_label_input`\n",
    " * 返回 [TF Placeholder](https://www.tensorflow.org/api_docs/python/tf/placeholder)\n",
    " * 使用 `n_classes` 设置形状，部分大小设为 `None`\n",
    " * 使用 [TF Placeholder](https://www.tensorflow.org/api_docs/python/tf/placeholder) 中的 TensorFlow `name` 参数对 TensorFlow 占位符 \"y\" 命名\n",
    "* 实现 `neural_net_keep_prob_input`\n",
    " * 返回 [TF Placeholder](https://www.tensorflow.org/api_docs/python/tf/placeholder)，用于丢弃保留概率\n",
    " * 使用 [TF Placeholder](https://www.tensorflow.org/api_docs/python/tf/placeholder) 中的 TensorFlow `name` 参数对 TensorFlow 占位符 \"keep_prob\" 命名\n",
    "\n",
    "这些名称将在项目结束时，用于加载保存的模型。\n",
    "\n",
    "注意：TensorFlow 中的 `None` 表示形状可以是动态大小。"
   ]
  },
  {
   "cell_type": "code",
   "execution_count": 7,
   "metadata": {},
   "outputs": [
    {
     "name": "stdout",
     "output_type": "stream",
     "text": [
      "Image Input Tests Passed.\n",
      "Label Input Tests Passed.\n",
      "Keep Prob Tests Passed.\n"
     ]
    }
   ],
   "source": [
    "import tensorflow as tf\n",
    "\n",
    "def neural_net_image_input(image_shape):\n",
    "    \"\"\"\n",
    "    Return a Tensor for a batch of image input\n",
    "    : image_shape: Shape of the images\n",
    "    : return: Tensor for image input.\n",
    "    \"\"\"\n",
    "    # TODO: Implement Function\n",
    "    # Turn size-tuple into something tensorflow accepts.\n",
    "    input_shape = [None, image_shape[0], image_shape[1], image_shape[2]]\n",
    "    image_tensor = tf.placeholder(dtype=tf.float32, shape=input_shape, name='x')\n",
    "    \n",
    "    return image_tensor\n",
    "\n",
    "\n",
    "def neural_net_label_input(n_classes):\n",
    "    \"\"\"\n",
    "    Return a Tensor for a batch of label input\n",
    "    : n_classes: Number of classes\n",
    "    : return: Tensor for label input.\n",
    "    \"\"\"\n",
    "    # TODO: Implement Function\n",
    "    label_tensor = tf.placeholder(dtype=tf.int64, shape=[None, n_classes], name='y')\n",
    "    \n",
    "    return label_tensor\n",
    "\n",
    "\n",
    "def neural_net_keep_prob_input():\n",
    "    \"\"\"\n",
    "    Return a Tensor for keep probability\n",
    "    : return: Tensor for keep probability.\n",
    "    \"\"\"\n",
    "    # TODO: Implement Function\n",
    "    keep_prob_tensor = tf.placeholder(dtype=tf.float32, name='keep_prob')\n",
    "    return keep_prob_tensor\n",
    "\n",
    "\n",
    "\"\"\"\n",
    "DON'T MODIFY ANYTHING IN THIS CELL THAT IS BELOW THIS LINE\n",
    "\"\"\"\n",
    "tf.reset_default_graph()\n",
    "tests.test_nn_image_inputs(neural_net_image_input)\n",
    "tests.test_nn_label_inputs(neural_net_label_input)\n",
    "tests.test_nn_keep_prob_inputs(neural_net_keep_prob_input)"
   ]
  },
  {
   "cell_type": "markdown",
   "metadata": {},
   "source": [
    "### 卷积和最大池化层\n",
    "\n",
    "卷积层级适合处理图片。对于此代码单元，你应该实现函数 `conv2d_maxpool` 以便应用卷积然后进行最大池化：\n",
    "\n",
    "* 使用 `conv_ksize`、`conv_num_outputs` 和 `x_tensor` 的形状创建权重（weight）和偏置（bias）。\n",
    "* 使用权重和 `conv_strides` 对 `x_tensor` 应用卷积。\n",
    " * 建议使用我们建议的间距（padding），当然也可以使用任何其他间距。\n",
    "* 添加偏置\n",
    "* 向卷积中添加非线性激活（nonlinear activation）\n",
    "* 使用 `pool_ksize` 和 `pool_strides` 应用最大池化\n",
    " * 建议使用我们建议的间距（padding），当然也可以使用任何其他间距。\n",
    "\n",
    "**注意**：对于**此层**，**请勿使用** [TensorFlow Layers](https://www.tensorflow.org/api_docs/python/tf/layers) 或 [TensorFlow Layers (contrib)](https://www.tensorflow.org/api_guides/python/contrib.layers)，但是仍然可以使用 TensorFlow 的 [Neural Network](https://www.tensorflow.org/api_docs/python/tf/nn) 包。对于所有**其他层**，你依然可以使用快捷方法。\n"
   ]
  },
  {
   "cell_type": "code",
   "execution_count": 8,
   "metadata": {},
   "outputs": [
    {
     "name": "stdout",
     "output_type": "stream",
     "text": [
      "Tests Passed\n"
     ]
    }
   ],
   "source": [
    "def conv2d_maxpool(x_tensor, conv_num_outputs, conv_ksize, conv_strides, pool_ksize, pool_strides):\n",
    "    \"\"\"\n",
    "    Apply convolution then max pooling to x_tensor\n",
    "    :param x_tensor: TensorFlow Tensor\n",
    "    :param conv_num_outputs: Number of outputs for the convolutional layer\n",
    "    :param conv_ksize: kernal size 2-D Tuple for the convolutional layer\n",
    "    :param conv_strides: Stride 2-D Tuple for convolution\n",
    "    :param pool_ksize: kernal size 2-D Tuple for pool\n",
    "    :param pool_strides: Stride 2-D Tuple for pool\n",
    "    : return: A tensor that represents convolution and max pooling of x_tensor\n",
    "    \"\"\"\n",
    "    # Weights and bias of the convnet.\n",
    "    input_depth = tf.cast((x_tensor.shape[3]), tf.int64)\n",
    "    filter_weight = tf.Variable(\n",
    "        tf.truncated_normal(([conv_ksize[0], conv_ksize[1], input_depth, conv_num_outputs])))\n",
    "    filter_bias = tf.Variable(tf.zeros(conv_num_outputs))\n",
    "    \n",
    "    # Convert conv_strides to format TensorFlow accepts.\n",
    "    conv_strides_tensor = [1, conv_strides[0], conv_strides[1], 1]\n",
    "    \n",
    "    # Do convolution.\n",
    "    hidden_layer = tf.nn.conv2d(x_tensor, filter_weight, conv_strides_tensor, \"SAME\") + filter_bias\n",
    "    \n",
    "    # Nonlinearity activation.\n",
    "    hidden_layer = tf.nn.relu(hidden_layer)\n",
    "    \n",
    "    # Convert pool_ksize and pool_strides to format TensorFlow accepts.\n",
    "    pool_ksize_tensor = [1, pool_ksize[0], pool_ksize[1], 1]\n",
    "    pool_strides_tensor = [1, pool_strides[0], pool_strides[1], 1]\n",
    "    \n",
    "    # Do max pooling.\n",
    "    output = tf.nn.max_pool(hidden_layer, pool_ksize_tensor, pool_strides_tensor, \"SAME\")\n",
    "    \n",
    "    return output \n",
    "\n",
    "\n",
    "\"\"\"\n",
    "DON'T MODIFY ANYTHING IN THIS CELL THAT IS BELOW THIS LINE\n",
    "\"\"\"\n",
    "tests.test_con_pool(conv2d_maxpool)"
   ]
  },
  {
   "cell_type": "markdown",
   "metadata": {},
   "source": [
    "### 扁平化层\n",
    "\n",
    "实现 `flatten` 函数，将 `x_tensor` 的维度从四维张量（4-D tensor）变成二维张量。输出应该是形状（*部分大小（Batch Size）*，*扁平化图片大小（Flattened Image Size）*）。快捷方法：对于此层，你可以使用 [TensorFlow Layers](https://www.tensorflow.org/api_docs/python/tf/layers) 或 [TensorFlow Layers (contrib)](https://www.tensorflow.org/api_guides/python/contrib.layers) 包中的类。如果你想要更大挑战，可以仅使用其他 TensorFlow 程序包。\n"
   ]
  },
  {
   "cell_type": "code",
   "execution_count": 9,
   "metadata": {},
   "outputs": [
    {
     "name": "stdout",
     "output_type": "stream",
     "text": [
      "Tests Passed\n"
     ]
    }
   ],
   "source": [
    "def flatten(x_tensor):\n",
    "    \"\"\"\n",
    "    Flatten x_tensor to (Batch Size, Flattened Image Size)\n",
    "    : x_tensor: A tensor of size (Batch Size, ...), where ... are the image dimensions.\n",
    "    : return: A tensor of size (Batch Size, Flattened Image Size).\n",
    "    \"\"\"\n",
    "    # TODO: Implement Function\n",
    "    x_tensor_flat = tf.layers.flatten(x_tensor)\n",
    "    \n",
    "    return x_tensor_flat\n",
    "\n",
    "\n",
    "\"\"\"\n",
    "DON'T MODIFY ANYTHING IN THIS CELL THAT IS BELOW THIS LINE\n",
    "\"\"\"\n",
    "tests.test_flatten(flatten)"
   ]
  },
  {
   "cell_type": "markdown",
   "metadata": {},
   "source": [
    "### 全连接层\n",
    "\n",
    "实现 `fully_conn` 函数，以向 `x_tensor` 应用完全连接的层级，形状为（*部分大小（Batch Size）*，*num_outputs*）。快捷方法：对于此层，你可以使用 [TensorFlow Layers](https://www.tensorflow.org/api_docs/python/tf/layers) 或 [TensorFlow Layers (contrib)](https://www.tensorflow.org/api_guides/python/contrib.layers) 包中的类。如果你想要更大挑战，可以仅使用其他 TensorFlow 程序包。"
   ]
  },
  {
   "cell_type": "code",
   "execution_count": 10,
   "metadata": {},
   "outputs": [
    {
     "name": "stdout",
     "output_type": "stream",
     "text": [
      "Tests Passed\n"
     ]
    }
   ],
   "source": [
    "def fully_conn(x_tensor, num_outputs):\n",
    "    \"\"\"\n",
    "    Apply a fully connected layer to x_tensor using weight and bias\n",
    "    : x_tensor: A 2-D tensor where the first dimension is batch size.\n",
    "    : num_outputs: The number of output that the new tensor should be.\n",
    "    : return: A 2-D tensor where the second dimension is num_outputs.\n",
    "    \"\"\"\n",
    "    # TODO: Implement Function\n",
    "    dense_output = tf.layers.dense(x_tensor, num_outputs, activation=tf.nn.relu)\n",
    "    \n",
    "    return dense_output\n",
    "\n",
    "\n",
    "\"\"\"\n",
    "DON'T MODIFY ANYTHING IN THIS CELL THAT IS BELOW THIS LINE\n",
    "\"\"\"\n",
    "tests.test_fully_conn(fully_conn)"
   ]
  },
  {
   "cell_type": "markdown",
   "metadata": {},
   "source": [
    "### 输出层\n",
    "\n",
    "实现 `output` 函数，向 x_tensor 应用完全连接的层级，形状为（*部分大小（Batch Size）*，*num_outputs*）。快捷方法：对于此层，你可以使用 [TensorFlow Layers](https://www.tensorflow.org/api_docs/python/tf/layers) 或 [TensorFlow Layers (contrib)](https://www.tensorflow.org/api_guides/python/contrib.layers) 包中的类。如果你想要更大挑战，可以仅使用其他 TensorFlow 程序包。\n",
    "\n",
    "**注意**：该层级不应应用 Activation、softmax 或交叉熵（cross entropy）。"
   ]
  },
  {
   "cell_type": "code",
   "execution_count": 11,
   "metadata": {},
   "outputs": [
    {
     "name": "stdout",
     "output_type": "stream",
     "text": [
      "Tests Passed\n"
     ]
    }
   ],
   "source": [
    "def output(x_tensor, num_outputs):\n",
    "    \"\"\"\n",
    "    Apply a output layer to x_tensor using weight and bias\n",
    "    : x_tensor: A 2-D tensor where the first dimension is batch size.\n",
    "    : num_outputs: The number of output that the new tensor should be.\n",
    "    : return: A 2-D tensor where the second dimension is num_outputs.\n",
    "    \"\"\"\n",
    "    # TODO: Implement Function. Note activation=tf.nn.sigmoid not used, but why?\n",
    "    last_output = tf.layers.dense(x_tensor, num_outputs)\n",
    "    return last_output\n",
    "\n",
    "\n",
    "\"\"\"\n",
    "DON'T MODIFY ANYTHING IN THIS CELL THAT IS BELOW THIS LINE\n",
    "\"\"\"\n",
    "tests.test_output(output)"
   ]
  },
  {
   "cell_type": "markdown",
   "metadata": {},
   "source": [
    "### 创建卷积模型\n",
    "\n",
    "实现函数 `conv_net`， 创建卷积神经网络模型。该函数传入一批图片 `x`，并输出对数（logits）。使用你在上方创建的层创建此模型：\n",
    "\n",
    "* 应用 1、2 或 3 个卷积和最大池化层（Convolution and Max Pool layers）\n",
    "* 应用一个扁平层（Flatten Layer）\n",
    "* 应用 1、2 或 3 个完全连接层（Fully Connected Layers）\n",
    "* 应用一个输出层（Output Layer）\n",
    "* 返回输出\n",
    "* 使用 `keep_prob` 向模型中的一个或多个层应用 [TensorFlow 的 Dropout](https://www.tensorflow.org/api_docs/python/tf/nn/dropout)"
   ]
  },
  {
   "cell_type": "code",
   "execution_count": 12,
   "metadata": {},
   "outputs": [
    {
     "name": "stdout",
     "output_type": "stream",
     "text": [
      "Neural Network Built!\n"
     ]
    }
   ],
   "source": [
    "def conv_net(x, keep_prob):\n",
    "    \"\"\"\n",
    "    Create a convolutional neural network model\n",
    "    : x: Placeholder tensor that holds image data.\n",
    "    : keep_prob: Placeholder tensor that hold dropout keep probability.\n",
    "    : return: Tensor that represents logits\n",
    "    \"\"\"\n",
    "    # TODO: Apply 1, 2, or 3 Convolution and Max Pool layers\n",
    "    #    Play around with different number of outputs, kernel size and stride\n",
    "    # Function Definition from Above:\n",
    "    #    conv2d_maxpool(x_tensor, conv_num_outputs, conv_ksize, conv_strides, pool_ksize, pool_strides)\n",
    "    hidden_layer = conv2d_maxpool(x, 64, (3, 3), (1, 1), (3, 3), (2, 2))\n",
    "    hidden_layer = conv2d_maxpool(x, 64, (2, 2), (1, 1), (2, 2), (1, 1))\n",
    "#     hidden_layer = conv2d_maxpool(x, 16, (1, 1), (1, 1), (1, 1), (1, 1)) # sometimes more layer != better\n",
    "\n",
    "    # TODO: Apply a Flatten Layer\n",
    "    # Function Definition from Above:\n",
    "    #   flatten(x_tensor)\n",
    "    hidden_layer = flatten(hidden_layer)\n",
    "\n",
    "    # TODO: Apply 1, 2, or 3 Fully Connected Layers\n",
    "    #    Play around with different number of outputs\n",
    "    # Function Definition from Above:\n",
    "    #   fully_conn(x_tensor, num_outputs)\n",
    "    hidden_layer = fully_conn(hidden_layer, 128)\n",
    "    # Sooooo many connections here, dropout should work.\n",
    "    hidden_layer = tf.layers.dropout(hidden_layer, keep_prob)\n",
    "    hidden_layer = fully_conn(hidden_layer, 64)\n",
    "#     hidden_layer = fully_conn(hidden_layer, 16) # sometimes more layer != better\n",
    "    \n",
    "    # TODO: Apply an Output Layer\n",
    "    #    Set this to the number of classes\n",
    "    # Function Definition from Above:\n",
    "    #   output(x_tensor, num_outputs)\n",
    "    output_layer = output(hidden_layer, 10)\n",
    "    \n",
    "    # TODO: return output\n",
    "    return output_layer\n",
    "\n",
    "\n",
    "\"\"\"\n",
    "DON'T MODIFY ANYTHING IN THIS CELL THAT IS BELOW THIS LINE\n",
    "\"\"\"\n",
    "\n",
    "##############################\n",
    "## Build the Neural Network ##\n",
    "##############################\n",
    "\n",
    "# Remove previous weights, bias, inputs, etc..\n",
    "tf.reset_default_graph()\n",
    "\n",
    "# Inputs\n",
    "x = neural_net_image_input((32, 32, 3))\n",
    "y = neural_net_label_input(10)\n",
    "keep_prob = neural_net_keep_prob_input()\n",
    "\n",
    "# Model\n",
    "logits = conv_net(x, keep_prob)\n",
    "\n",
    "# Name logits Tensor, so that is can be loaded from disk after training\n",
    "logits = tf.identity(logits, name='logits')\n",
    "\n",
    "# Loss and Optimizer\n",
    "cost = tf.reduce_mean(tf.nn.softmax_cross_entropy_with_logits(logits=logits, labels=y))\n",
    "optimizer = tf.train.AdamOptimizer().minimize(cost)\n",
    "\n",
    "# Accuracy\n",
    "correct_pred = tf.equal(tf.argmax(logits, 1), tf.argmax(y, 1))\n",
    "accuracy = tf.reduce_mean(tf.cast(correct_pred, tf.float32), name='accuracy')\n",
    "\n",
    "tests.test_conv_net(conv_net)"
   ]
  },
  {
   "cell_type": "markdown",
   "metadata": {},
   "source": [
    "## 训练神经网络\n",
    "\n",
    "### 单次优化\n",
    "\n",
    "实现函数 `train_neural_network` 以进行单次优化（single optimization）。该优化应该使用 `optimizer` 优化 `session`，其中 `feed_dict` 具有以下参数：\n",
    "\n",
    "* `x` 表示图片输入\n",
    "* `y` 表示标签\n",
    "* `keep_prob` 表示丢弃的保留率\n",
    "\n",
    "每个部分都会调用该函数，所以 `tf.global_variables_initializer()` 已经被调用。\n",
    "\n",
    "注意：不需要返回任何内容。该函数只是用来优化神经网络。\n"
   ]
  },
  {
   "cell_type": "code",
   "execution_count": 13,
   "metadata": {},
   "outputs": [
    {
     "name": "stdout",
     "output_type": "stream",
     "text": [
      "Tests Passed\n"
     ]
    }
   ],
   "source": [
    "def train_neural_network(session, optimizer, keep_probability, feature_batch, label_batch):\n",
    "    \"\"\"\n",
    "    Optimize the session on a batch of images and labels\n",
    "    : session: Current TensorFlow session\n",
    "    : optimizer: TensorFlow optimizer function\n",
    "    : keep_probability: keep probability\n",
    "    : feature_batch: Batch of Numpy image data\n",
    "    : label_batch: Batch of Numpy label data\n",
    "    \"\"\"\n",
    "    # TODO: Implement Function\n",
    "    session.run(optimizer, feed_dict={x: feature_batch, y: label_batch, keep_prob: keep_probability})\n",
    "\n",
    "\n",
    "\"\"\"\n",
    "DON'T MODIFY ANYTHING IN THIS CELL THAT IS BELOW THIS LINE\n",
    "\"\"\"\n",
    "tests.test_train_nn(train_neural_network)"
   ]
  },
  {
   "cell_type": "markdown",
   "metadata": {},
   "source": [
    "### 显示数据\n",
    "\n",
    "实现函数 `print_stats` 以输出损失和验证准确率。使用全局变量 `valid_features` 和 `valid_labels` 计算验证准确率。使用保留率 `1.0` 计算损失和验证准确率（loss and validation accuracy）。\n"
   ]
  },
  {
   "cell_type": "code",
   "execution_count": 14,
   "metadata": {
    "collapsed": true
   },
   "outputs": [],
   "source": [
    "def print_stats(session, feature_batch, label_batch, cost, accuracy):\n",
    "    \"\"\"\n",
    "    Print information about loss and validation accuracy\n",
    "    : session: Current TensorFlow session\n",
    "    : feature_batch: Batch of Numpy image data\n",
    "    : label_batch: Batch of Numpy label data\n",
    "    : cost: TensorFlow cost function\n",
    "    : accuracy: TensorFlow accuracy function\n",
    "    \"\"\"\n",
    "    # TODO: Implement Function\n",
    "    cost_value = session.run(cost, feed_dict={x:feature_batch, y:label_batch, keep_prob: 1.0})\n",
    "    acc_value = session.run(accuracy, feed_dict={x:valid_features, y:valid_labels, keep_prob: 1.0})\n",
    "    print(\"loss: {:.5f}, validation accuracy: {:.2f}%\".format(cost_value, acc_value * 100))"
   ]
  },
  {
   "cell_type": "markdown",
   "metadata": {},
   "source": [
    "### 超参数\n",
    "\n",
    "调试以下超参数：\n",
    "* 设置 `epochs` 表示神经网络停止学习或开始过拟合的迭代次数\n",
    "* 设置 `batch_size`，表示机器内存允许的部分最大体积。大部分人设为以下常见内存大小：\n",
    "\n",
    " * 64\n",
    " * 128\n",
    " * 256\n",
    " * ...\n",
    "* 设置 `keep_probability` 表示使用丢弃时保留节点的概率"
   ]
  },
  {
   "cell_type": "code",
   "execution_count": 15,
   "metadata": {
    "collapsed": true
   },
   "outputs": [],
   "source": [
    "# TODO: Tune Parameters\n",
    "epochs = 20\n",
    "batch_size = 128\n",
    "keep_probability = 0.5"
   ]
  },
  {
   "cell_type": "markdown",
   "metadata": {},
   "source": [
    "### 在单个 CIFAR-10 部分上训练\n",
    "\n",
    "我们先用单个部分，而不是用所有的 CIFAR-10 批次训练神经网络。这样可以节省时间，并对模型进行迭代，以提高准确率。最终验证准确率达到 50% 或以上之后，在下一部分对所有数据运行模型。\n"
   ]
  },
  {
   "cell_type": "code",
   "execution_count": 16,
   "metadata": {},
   "outputs": [
    {
     "name": "stdout",
     "output_type": "stream",
     "text": [
      "Checking the Training on a Single Batch...\n",
      "Epoch  1, CIFAR-10 Batch 1:  loss: 2.05473, validation accuracy: 27.38%\n",
      "Epoch  2, CIFAR-10 Batch 1:  loss: 1.76692, validation accuracy: 34.94%\n",
      "Epoch  3, CIFAR-10 Batch 1:  loss: 1.55419, validation accuracy: 40.96%\n",
      "Epoch  4, CIFAR-10 Batch 1:  loss: 1.36966, validation accuracy: 45.18%\n",
      "Epoch  5, CIFAR-10 Batch 1:  loss: 1.34868, validation accuracy: 42.80%\n",
      "Epoch  6, CIFAR-10 Batch 1:  loss: 1.23561, validation accuracy: 42.56%\n",
      "Epoch  7, CIFAR-10 Batch 1:  loss: 1.19102, validation accuracy: 41.06%\n",
      "Epoch  8, CIFAR-10 Batch 1:  loss: 1.01868, validation accuracy: 45.74%\n",
      "Epoch  9, CIFAR-10 Batch 1:  loss: 0.90193, validation accuracy: 46.94%\n",
      "Epoch 10, CIFAR-10 Batch 1:  loss: 0.78483, validation accuracy: 48.58%\n",
      "Epoch 11, CIFAR-10 Batch 1:  loss: 0.72603, validation accuracy: 50.42%\n",
      "Epoch 12, CIFAR-10 Batch 1:  loss: 0.66494, validation accuracy: 50.94%\n",
      "Epoch 13, CIFAR-10 Batch 1:  loss: 0.55330, validation accuracy: 51.50%\n",
      "Epoch 14, CIFAR-10 Batch 1:  loss: 0.53275, validation accuracy: 50.98%\n",
      "Epoch 15, CIFAR-10 Batch 1:  loss: 0.49235, validation accuracy: 49.62%\n",
      "Epoch 16, CIFAR-10 Batch 1:  loss: 0.49018, validation accuracy: 50.86%\n",
      "Epoch 17, CIFAR-10 Batch 1:  loss: 0.46810, validation accuracy: 47.54%\n",
      "Epoch 18, CIFAR-10 Batch 1:  loss: 0.43154, validation accuracy: 46.80%\n",
      "Epoch 19, CIFAR-10 Batch 1:  loss: 0.39034, validation accuracy: 50.04%\n",
      "Epoch 20, CIFAR-10 Batch 1:  loss: 0.33097, validation accuracy: 51.78%\n"
     ]
    }
   ],
   "source": [
    "\"\"\"\n",
    "DON'T MODIFY ANYTHING IN THIS CELL\n",
    "\"\"\"\n",
    "print('Checking the Training on a Single Batch...')\n",
    "with tf.Session() as sess:\n",
    "    # Initializing the variables\n",
    "    sess.run(tf.global_variables_initializer())\n",
    "    \n",
    "    # Training cycle\n",
    "    for epoch in range(epochs):\n",
    "        batch_i = 1\n",
    "        for batch_features, batch_labels in helper.load_preprocess_training_batch(batch_i, batch_size):\n",
    "            train_neural_network(sess, optimizer, keep_probability, batch_features, batch_labels)\n",
    "        print('Epoch {:>2}, CIFAR-10 Batch {}:  '.format(epoch + 1, batch_i), end='')\n",
    "        print_stats(sess, batch_features, batch_labels, cost, accuracy)"
   ]
  },
  {
   "cell_type": "markdown",
   "metadata": {},
   "source": [
    "### 完全训练模型\n",
    "\n",
    "现在，单个 CIFAR-10 部分的准确率已经不错了，试试所有五个部分吧。"
   ]
  },
  {
   "cell_type": "code",
   "execution_count": 17,
   "metadata": {},
   "outputs": [
    {
     "name": "stdout",
     "output_type": "stream",
     "text": [
      "Training...\n",
      "Epoch  1, CIFAR-10 Batch 1:  loss: 2.35870, validation accuracy: 27.00%\n",
      "Epoch  1, CIFAR-10 Batch 2:  loss: 1.75599, validation accuracy: 38.46%\n",
      "Epoch  1, CIFAR-10 Batch 3:  loss: 1.64481, validation accuracy: 37.44%\n",
      "Epoch  1, CIFAR-10 Batch 4:  loss: 1.97647, validation accuracy: 34.44%\n",
      "Epoch  1, CIFAR-10 Batch 5:  loss: 1.51668, validation accuracy: 47.88%\n",
      "Epoch  2, CIFAR-10 Batch 1:  loss: 1.62678, validation accuracy: 48.56%\n",
      "Epoch  2, CIFAR-10 Batch 2:  loss: 1.24375, validation accuracy: 42.36%\n",
      "Epoch  2, CIFAR-10 Batch 3:  loss: 1.12812, validation accuracy: 46.44%\n",
      "Epoch  2, CIFAR-10 Batch 4:  loss: 1.16316, validation accuracy: 48.88%\n",
      "Epoch  2, CIFAR-10 Batch 5:  loss: 1.12747, validation accuracy: 54.64%\n",
      "Epoch  3, CIFAR-10 Batch 1:  loss: 1.31019, validation accuracy: 52.04%\n",
      "Epoch  3, CIFAR-10 Batch 2:  loss: 0.92308, validation accuracy: 54.16%\n",
      "Epoch  3, CIFAR-10 Batch 3:  loss: 0.84007, validation accuracy: 54.84%\n",
      "Epoch  3, CIFAR-10 Batch 4:  loss: 1.04829, validation accuracy: 53.42%\n",
      "Epoch  3, CIFAR-10 Batch 5:  loss: 1.05384, validation accuracy: 53.28%\n",
      "Epoch  4, CIFAR-10 Batch 1:  loss: 1.09572, validation accuracy: 55.26%\n",
      "Epoch  4, CIFAR-10 Batch 2:  loss: 0.75558, validation accuracy: 57.18%\n",
      "Epoch  4, CIFAR-10 Batch 3:  loss: 0.68473, validation accuracy: 56.82%\n",
      "Epoch  4, CIFAR-10 Batch 4:  loss: 0.98112, validation accuracy: 54.54%\n",
      "Epoch  4, CIFAR-10 Batch 5:  loss: 0.95199, validation accuracy: 55.10%\n",
      "Epoch  5, CIFAR-10 Batch 1:  loss: 1.00008, validation accuracy: 57.22%\n",
      "Epoch  5, CIFAR-10 Batch 2:  loss: 1.02428, validation accuracy: 47.18%\n",
      "Epoch  5, CIFAR-10 Batch 3:  loss: 0.80846, validation accuracy: 56.34%\n",
      "Epoch  5, CIFAR-10 Batch 4:  loss: 0.84504, validation accuracy: 58.30%\n",
      "Epoch  5, CIFAR-10 Batch 5:  loss: 0.86867, validation accuracy: 59.64%\n",
      "Epoch  6, CIFAR-10 Batch 1:  loss: 0.90453, validation accuracy: 58.76%\n",
      "Epoch  6, CIFAR-10 Batch 2:  loss: 0.63257, validation accuracy: 60.74%\n",
      "Epoch  6, CIFAR-10 Batch 3:  loss: 0.67526, validation accuracy: 58.92%\n",
      "Epoch  6, CIFAR-10 Batch 4:  loss: 0.74906, validation accuracy: 59.82%\n",
      "Epoch  6, CIFAR-10 Batch 5:  loss: 0.80359, validation accuracy: 58.96%\n",
      "Epoch  7, CIFAR-10 Batch 1:  loss: 0.84154, validation accuracy: 59.76%\n",
      "Epoch  7, CIFAR-10 Batch 2:  loss: 0.56948, validation accuracy: 60.52%\n",
      "Epoch  7, CIFAR-10 Batch 3:  loss: 0.60508, validation accuracy: 60.26%\n",
      "Epoch  7, CIFAR-10 Batch 4:  loss: 0.62595, validation accuracy: 61.28%\n",
      "Epoch  7, CIFAR-10 Batch 5:  loss: 0.72037, validation accuracy: 58.80%\n",
      "Epoch  8, CIFAR-10 Batch 1:  loss: 0.81418, validation accuracy: 60.46%\n",
      "Epoch  8, CIFAR-10 Batch 2:  loss: 0.51400, validation accuracy: 61.00%\n",
      "Epoch  8, CIFAR-10 Batch 3:  loss: 0.51882, validation accuracy: 60.74%\n",
      "Epoch  8, CIFAR-10 Batch 4:  loss: 0.56683, validation accuracy: 61.62%\n",
      "Epoch  8, CIFAR-10 Batch 5:  loss: 0.65660, validation accuracy: 60.08%\n",
      "Epoch  9, CIFAR-10 Batch 1:  loss: 0.67912, validation accuracy: 60.64%\n",
      "Epoch  9, CIFAR-10 Batch 2:  loss: 0.47046, validation accuracy: 61.56%\n",
      "Epoch  9, CIFAR-10 Batch 3:  loss: 0.44557, validation accuracy: 60.88%\n",
      "Epoch  9, CIFAR-10 Batch 4:  loss: 0.49072, validation accuracy: 62.24%\n",
      "Epoch  9, CIFAR-10 Batch 5:  loss: 0.57992, validation accuracy: 60.44%\n",
      "Epoch 10, CIFAR-10 Batch 1:  loss: 0.61157, validation accuracy: 61.10%\n",
      "Epoch 10, CIFAR-10 Batch 2:  loss: 0.43687, validation accuracy: 60.54%\n",
      "Epoch 10, CIFAR-10 Batch 3:  loss: 0.38338, validation accuracy: 60.84%\n",
      "Epoch 10, CIFAR-10 Batch 4:  loss: 0.40785, validation accuracy: 62.88%\n",
      "Epoch 10, CIFAR-10 Batch 5:  loss: 0.54366, validation accuracy: 60.64%\n",
      "Epoch 11, CIFAR-10 Batch 1:  loss: 0.57300, validation accuracy: 61.32%\n",
      "Epoch 11, CIFAR-10 Batch 2:  loss: 0.38883, validation accuracy: 60.02%\n",
      "Epoch 11, CIFAR-10 Batch 3:  loss: 0.32487, validation accuracy: 60.46%\n",
      "Epoch 11, CIFAR-10 Batch 4:  loss: 0.38388, validation accuracy: 62.60%\n",
      "Epoch 11, CIFAR-10 Batch 5:  loss: 0.48413, validation accuracy: 60.98%\n",
      "Epoch 12, CIFAR-10 Batch 1:  loss: 0.53528, validation accuracy: 62.92%\n",
      "Epoch 12, CIFAR-10 Batch 2:  loss: 0.30206, validation accuracy: 62.02%\n",
      "Epoch 12, CIFAR-10 Batch 3:  loss: 0.28407, validation accuracy: 60.76%\n",
      "Epoch 12, CIFAR-10 Batch 4:  loss: 0.33750, validation accuracy: 61.70%\n",
      "Epoch 12, CIFAR-10 Batch 5:  loss: 0.44320, validation accuracy: 59.74%\n",
      "Epoch 13, CIFAR-10 Batch 1:  loss: 0.49524, validation accuracy: 62.84%\n",
      "Epoch 13, CIFAR-10 Batch 2:  loss: 0.27355, validation accuracy: 62.44%\n",
      "Epoch 13, CIFAR-10 Batch 3:  loss: 0.24060, validation accuracy: 60.88%\n",
      "Epoch 13, CIFAR-10 Batch 4:  loss: 0.28310, validation accuracy: 62.22%\n",
      "Epoch 13, CIFAR-10 Batch 5:  loss: 0.39578, validation accuracy: 59.60%\n",
      "Epoch 14, CIFAR-10 Batch 1:  loss: 0.44993, validation accuracy: 62.92%\n",
      "Epoch 14, CIFAR-10 Batch 2:  loss: 0.24970, validation accuracy: 62.70%\n",
      "Epoch 14, CIFAR-10 Batch 3:  loss: 0.20529, validation accuracy: 60.16%\n",
      "Epoch 14, CIFAR-10 Batch 4:  loss: 0.25162, validation accuracy: 62.08%\n",
      "Epoch 14, CIFAR-10 Batch 5:  loss: 0.33052, validation accuracy: 61.10%\n",
      "Epoch 15, CIFAR-10 Batch 1:  loss: 0.42384, validation accuracy: 62.64%\n",
      "Epoch 15, CIFAR-10 Batch 2:  loss: 0.22862, validation accuracy: 62.42%\n",
      "Epoch 15, CIFAR-10 Batch 3:  loss: 0.18808, validation accuracy: 60.08%\n",
      "Epoch 15, CIFAR-10 Batch 4:  loss: 0.22518, validation accuracy: 62.64%\n",
      "Epoch 15, CIFAR-10 Batch 5:  loss: 0.29459, validation accuracy: 61.38%\n",
      "Epoch 16, CIFAR-10 Batch 1:  loss: 0.39118, validation accuracy: 62.14%\n",
      "Epoch 16, CIFAR-10 Batch 2:  loss: 0.21801, validation accuracy: 62.48%\n",
      "Epoch 16, CIFAR-10 Batch 3:  loss: 0.14849, validation accuracy: 58.54%\n",
      "Epoch 16, CIFAR-10 Batch 4:  loss: 0.19986, validation accuracy: 62.96%\n",
      "Epoch 16, CIFAR-10 Batch 5:  loss: 0.29917, validation accuracy: 60.56%\n",
      "Epoch 17, CIFAR-10 Batch 1:  loss: 0.35197, validation accuracy: 61.38%\n",
      "Epoch 17, CIFAR-10 Batch 2:  loss: 0.19723, validation accuracy: 62.20%\n",
      "Epoch 17, CIFAR-10 Batch 3:  loss: 0.15622, validation accuracy: 57.14%\n",
      "Epoch 17, CIFAR-10 Batch 4:  loss: 0.15772, validation accuracy: 63.06%\n",
      "Epoch 17, CIFAR-10 Batch 5:  loss: 0.25104, validation accuracy: 60.04%\n",
      "Epoch 18, CIFAR-10 Batch 1:  loss: 0.31330, validation accuracy: 62.00%\n",
      "Epoch 18, CIFAR-10 Batch 2:  loss: 0.15619, validation accuracy: 62.18%\n",
      "Epoch 18, CIFAR-10 Batch 3:  loss: 0.15940, validation accuracy: 58.06%\n",
      "Epoch 18, CIFAR-10 Batch 4:  loss: 0.14445, validation accuracy: 62.32%\n",
      "Epoch 18, CIFAR-10 Batch 5:  loss: 0.30738, validation accuracy: 58.84%\n",
      "Epoch 19, CIFAR-10 Batch 1:  loss: 0.28368, validation accuracy: 61.66%\n",
      "Epoch 19, CIFAR-10 Batch 2:  loss: 0.14433, validation accuracy: 62.84%\n",
      "Epoch 19, CIFAR-10 Batch 3:  loss: 0.17215, validation accuracy: 59.02%\n",
      "Epoch 19, CIFAR-10 Batch 4:  loss: 0.15389, validation accuracy: 60.62%\n",
      "Epoch 19, CIFAR-10 Batch 5:  loss: 0.20192, validation accuracy: 61.38%\n",
      "Epoch 20, CIFAR-10 Batch 1:  loss: 0.24571, validation accuracy: 61.24%\n",
      "Epoch 20, CIFAR-10 Batch 2:  loss: 0.13234, validation accuracy: 61.14%\n",
      "Epoch 20, CIFAR-10 Batch 3:  loss: 0.14452, validation accuracy: 59.34%\n",
      "Epoch 20, CIFAR-10 Batch 4:  loss: 0.13091, validation accuracy: 60.10%\n",
      "Epoch 20, CIFAR-10 Batch 5:  loss: 0.13104, validation accuracy: 62.90%\n"
     ]
    }
   ],
   "source": [
    "\"\"\"\n",
    "DON'T MODIFY ANYTHING IN THIS CELL\n",
    "\"\"\"\n",
    "save_model_path = './image_classification'\n",
    "\n",
    "print('Training...')\n",
    "with tf.Session() as sess:\n",
    "    # Initializing the variables\n",
    "    sess.run(tf.global_variables_initializer())\n",
    "    \n",
    "    # Training cycle\n",
    "    for epoch in range(epochs):\n",
    "        # Loop over all batches\n",
    "        n_batches = 5\n",
    "        for batch_i in range(1, n_batches + 1):\n",
    "            for batch_features, batch_labels in helper.load_preprocess_training_batch(batch_i, batch_size):\n",
    "                train_neural_network(sess, optimizer, keep_probability, batch_features, batch_labels)\n",
    "            print('Epoch {:>2}, CIFAR-10 Batch {}:  '.format(epoch + 1, batch_i), end='')\n",
    "            print_stats(sess, batch_features, batch_labels, cost, accuracy)\n",
    "            \n",
    "    # Save Model\n",
    "    saver = tf.train.Saver()\n",
    "    save_path = saver.save(sess, save_model_path)"
   ]
  },
  {
   "cell_type": "markdown",
   "metadata": {},
   "source": [
    "# 检查点\n",
    "\n",
    "模型已保存到本地。\n",
    "\n",
    "## 测试模型\n",
    "\n",
    "利用测试数据集测试你的模型。这将是最终的准确率。你的准确率应该高于 50%。如果没达到，请继续调整模型结构和参数。"
   ]
  },
  {
   "cell_type": "code",
   "execution_count": 18,
   "metadata": {},
   "outputs": [
    {
     "name": "stdout",
     "output_type": "stream",
     "text": [
      "INFO:tensorflow:Restoring parameters from ./image_classification\n",
      "Testing Accuracy: 0.6180775316455697\n",
      "\n"
     ]
    },
    {
     "data": {
      "image/png": "[encoded data removed]",
      "text/plain": [
       "<matplotlib.figure.Figure at 0x7f0218909278>"
      ]
     },
     "metadata": {
      "image/png": {
       "height": 319,
       "width": 355
      }
     },
     "output_type": "display_data"
    }
   ],
   "source": [
    "\"\"\"\n",
    "DON'T MODIFY ANYTHING IN THIS CELL\n",
    "\"\"\"\n",
    "%matplotlib inline\n",
    "%config InlineBackend.figure_format = 'retina'\n",
    "\n",
    "import tensorflow as tf\n",
    "import pickle\n",
    "import helper\n",
    "import random\n",
    "\n",
    "# Set batch size if not already set\n",
    "try:\n",
    "    if batch_size:\n",
    "        pass\n",
    "except NameError:\n",
    "    batch_size = 64\n",
    "\n",
    "save_model_path = './image_classification'\n",
    "n_samples = 4\n",
    "top_n_predictions = 3\n",
    "\n",
    "def test_model():\n",
    "    \"\"\"\n",
    "    Test the saved model against the test dataset\n",
    "    \"\"\"\n",
    "\n",
    "    test_features, test_labels = pickle.load(open('preprocess_test.p', mode='rb'))\n",
    "    loaded_graph = tf.Graph()\n",
    "\n",
    "    with tf.Session(graph=loaded_graph) as sess:\n",
    "        # Load model\n",
    "        loader = tf.train.import_meta_graph(save_model_path + '.meta')\n",
    "        loader.restore(sess, save_model_path)\n",
    "\n",
    "        # Get Tensors from loaded model\n",
    "        loaded_x = loaded_graph.get_tensor_by_name('x:0')\n",
    "        loaded_y = loaded_graph.get_tensor_by_name('y:0')\n",
    "        loaded_keep_prob = loaded_graph.get_tensor_by_name('keep_prob:0')\n",
    "        loaded_logits = loaded_graph.get_tensor_by_name('logits:0')\n",
    "        loaded_acc = loaded_graph.get_tensor_by_name('accuracy:0')\n",
    "        \n",
    "        # Get accuracy in batches for memory limitations\n",
    "        test_batch_acc_total = 0\n",
    "        test_batch_count = 0\n",
    "        \n",
    "        for test_feature_batch, test_label_batch in helper.batch_features_labels(test_features, test_labels, batch_size):\n",
    "            test_batch_acc_total += sess.run(\n",
    "                loaded_acc,\n",
    "                feed_dict={loaded_x: test_feature_batch, loaded_y: test_label_batch, loaded_keep_prob: 1.0})\n",
    "            test_batch_count += 1\n",
    "\n",
    "        print('Testing Accuracy: {}\\n'.format(test_batch_acc_total/test_batch_count))\n",
    "\n",
    "        # Print Random Samples\n",
    "        random_test_features, random_test_labels = tuple(zip(*random.sample(list(zip(test_features, test_labels)), n_samples)))\n",
    "        random_test_predictions = sess.run(\n",
    "            tf.nn.top_k(tf.nn.softmax(loaded_logits), top_n_predictions),\n",
    "            feed_dict={loaded_x: random_test_features, loaded_y: random_test_labels, loaded_keep_prob: 1.0})\n",
    "        helper.display_image_predictions(random_test_features, random_test_labels, random_test_predictions)\n",
    "\n",
    "\n",
    "test_model()"
   ]
  },
  {
   "cell_type": "markdown",
   "metadata": {},
   "source": [
    "## 为何准确率只有50-80%？\n",
    "\n",
    "你可能想问，为何准确率不能更高了？首先，对于简单的 CNN 网络来说，50% 已经不低了。纯粹猜测的准确率为10%。但是，你可能注意到有人的准确率[远远超过 80%](http://rodrigob.github.io/are_we_there_yet/build/classification_datasets_results.html#43494641522d3130)。这是因为我们还没有介绍所有的神经网络知识。我们还需要掌握一些其他技巧。\n",
    "\n",
    "## 提交项目\n",
    "\n",
    "提交项目时，确保先运行所有单元，然后再保存记事本。将 notebook 文件另存为“dlnd_image_classification.ipynb”，再在目录 \"File\" -> \"Download as\" 另存为 HTML 格式。请在提交的项目中包含 “helper.py” 和 “problem_unittests.py” 文件。\n"
   ]
  }
 ],
 "metadata": {
  "kernelspec": {
   "display_name": "Python 3",
   "language": "python",
   "name": "python3"
  },
  "language_info": {
   "codemirror_mode": {
    "name": "ipython",
    "version": 3
   },
   "file_extension": ".py",
   "mimetype": "text/x-python",
   "name": "python",
   "nbconvert_exporter": "python",
   "pygments_lexer": "ipython3",
   "version": "3.5.2"
  }
 },
 "nbformat": 4,
 "nbformat_minor": 1
}
