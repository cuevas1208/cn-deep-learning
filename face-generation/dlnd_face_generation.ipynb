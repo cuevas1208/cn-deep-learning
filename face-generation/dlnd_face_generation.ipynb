{
 "cells": [
  {
   "cell_type": "markdown",
   "metadata": {},
   "source": [
    "# Face Generation\n",
    "In this project, you'll use generative adversarial networks to generate new images of faces.\n",
    "### Get the Data\n",
    "You'll be using two datasets in this project:\n",
    "- MNIST\n",
    "- CelebA\n",
    "\n",
    "Since the celebA dataset is complex and you're doing GANs in a project for the first time, we want you to test your neural network on MNIST before CelebA.  Running the GANs on MNIST will allow you to see how well your model trains sooner.\n",
    "\n",
    "If you're using [FloydHub](https://www.floydhub.com/), set `data_dir` to \"/input\" and use the [FloydHub data ID](http://docs.floydhub.com/home/using_datasets/) \"R5KrjnANiKVhLWAkpXhNBe\"."
   ]
  },
  {
   "cell_type": "code",
   "execution_count": null,
   "metadata": {},
   "outputs": [],
   "source": [
    "data_dir = './data'\n",
    "\n",
    "# FloydHub - Use with data ID \"R5KrjnANiKVhLWAkpXhNBe\"\n",
    "#data_dir = '/input'\n",
    "\n",
    "\n",
    "\"\"\"\n",
    "DON'T MODIFY ANYTHING IN THIS CELL\n",
    "\"\"\"\n",
    "import helper\n",
    "\n",
    "helper.download_extract('mnist', data_dir)\n",
    "helper.download_extract('celeba', data_dir)"
   ]
  },
  {
   "cell_type": "markdown",
   "metadata": {},
   "source": [
    "## Explore the Data\n",
    "### MNIST\n",
    "As you're aware, the [MNIST](http://yann.lecun.com/exdb/mnist/) dataset contains images of handwritten digits. You can view the first number of examples by changing `show_n_images`. "
   ]
  },
  {
   "cell_type": "code",
   "execution_count": null,
   "metadata": {
    "collapsed": true
   },
   "outputs": [],
   "source": [
    "show_n_images = 25\n",
    "\n",
    "\"\"\"\n",
    "DON'T MODIFY ANYTHING IN THIS CELL\n",
    "\"\"\"\n",
    "%matplotlib inline\n",
    "import os\n",
    "from glob import glob\n",
    "from matplotlib import pyplot\n",
    "\n",
    "mnist_images = helper.get_batch(glob(os.path.join(data_dir, 'mnist/*.jpg'))[:show_n_images], 28, 28, 'L')\n",
    "#pyplot.imshow(helper.images_square_grid(mnist_images, 'L'), cmap='gray')"
   ]
  },
  {
   "cell_type": "code",
   "execution_count": null,
   "metadata": {},
   "outputs": [],
   "source": [
    "pyplot.imshow(helper.images_square_grid(mnist_images, 'L'), cmap='gray')"
   ]
  },
  {
   "cell_type": "markdown",
   "metadata": {},
   "source": [
    "### CelebA\n",
    "The [CelebFaces Attributes Dataset (CelebA)](http://mmlab.ie.cuhk.edu.hk/projects/CelebA.html) dataset contains over 200,000 celebrity images with annotations.  Since you're going to be generating faces, you won't need the annotations.  You can view the first number of examples by changing `show_n_images`."
   ]
  },
  {
   "cell_type": "code",
   "execution_count": null,
   "metadata": {},
   "outputs": [],
   "source": [
    "show_n_images = 25\n",
    "\n",
    "\"\"\"\n",
    "DON'T MODIFY ANYTHING IN THIS CELL\n",
    "\"\"\"\n",
    "mnist_images = helper.get_batch(glob(os.path.join(data_dir, 'img_align_celeba/*.jpg'))[:show_n_images], 28, 28, 'RGB')\n",
    "pyplot.imshow(helper.images_square_grid(mnist_images, 'RGB'))"
   ]
  },
  {
   "cell_type": "markdown",
   "metadata": {},
   "source": [
    "## Preprocess the Data\n",
    "Since the project's main focus is on building the GANs, we'll preprocess the data for you.  The values of the MNIST and CelebA dataset will be in the range of -0.5 to 0.5 of 28x28 dimensional images.  The CelebA images will be cropped to remove parts of the image that don't include a face, then resized down to 28x28.\n",
    "\n",
    "The MNIST images are black and white images with a single [color channel](https://en.wikipedia.org/wiki/Channel_(digital_image%29) while the CelebA images have [3 color channels (RGB color channel)](https://en.wikipedia.org/wiki/Channel_(digital_image%29#RGB_Images).\n",
    "## Build the Neural Network\n",
    "You'll build the components necessary to build a GANs by implementing the following functions below:\n",
    "- `model_inputs`\n",
    "- `discriminator`\n",
    "- `generator`\n",
    "- `model_loss`\n",
    "- `model_opt`\n",
    "- `train`\n",
    "\n",
    "### Check the Version of TensorFlow and Access to GPU\n",
    "This will check to make sure you have the correct version of TensorFlow and access to a GPU"
   ]
  },
  {
   "cell_type": "code",
   "execution_count": null,
   "metadata": {},
   "outputs": [],
   "source": [
    "\"\"\"\n",
    "DON'T MODIFY ANYTHING IN THIS CELL\n",
    "\"\"\"\n",
    "from distutils.version import LooseVersion\n",
    "import warnings\n",
    "import tensorflow as tf\n",
    "\n",
    "# Check TensorFlow Version\n",
    "assert LooseVersion(tf.__version__) >= LooseVersion('1.0'), 'Please use TensorFlow version 1.0 or newer.  You are using {}'.format(tf.__version__)\n",
    "print('TensorFlow Version: {}'.format(tf.__version__))\n",
    "\n",
    "# Check for a GPU\n",
    "if not tf.test.gpu_device_name():\n",
    "    warnings.warn('No GPU found. Please use a GPU to train your neural network.')\n",
    "else:\n",
    "    print('Default GPU Device: {}'.format(tf.test.gpu_device_name()))"
   ]
  },
  {
   "cell_type": "markdown",
   "metadata": {},
   "source": [
    "### Input\n",
    "Implement the `model_inputs` function to create TF Placeholders for the Neural Network. It should create the following placeholders:\n",
    "- Real input images placeholder with rank 4 using `image_width`, `image_height`, and `image_channels`.\n",
    "- Z input placeholder with rank 2 using `z_dim`.\n",
    "- Learning rate placeholder with rank 0.\n",
    "\n",
    "Return the placeholders in the following the tuple (tensor of real input images, tensor of z data)"
   ]
  },
  {
   "cell_type": "code",
   "execution_count": null,
   "metadata": {},
   "outputs": [],
   "source": [
    "import problem_unittests as tests\n",
    "\n",
    "def model_inputs(image_width, image_height, image_channels, z_dim):\n",
    "    \"\"\"\n",
    "    Create the model inputs\n",
    "    :param image_width: The input image width\n",
    "    :param image_height: The input image height\n",
    "    :param image_channels: The number of image channels\n",
    "    :param z_dim: The dimension of Z\n",
    "    :return: Tuple of (tensor of real input images, tensor of z data, learning rate)\n",
    "    \"\"\"\n",
    "    # Tensor of real input images\n",
    "    input_real = tf.placeholder(\n",
    "        dtype=tf.float32, \n",
    "        shape=(None, image_width, image_height, image_channels), \n",
    "        name='input_real')\n",
    "    \n",
    "    # Tensor of z data\n",
    "    input_z = tf.placeholder(\n",
    "        dtype=tf.float32,\n",
    "        shape=(None, z_dim), \n",
    "        name='input_z')\n",
    "    \n",
    "    # Learning rate\n",
    "    learning_rate = tf.placeholder(dtype=tf.float32)\n",
    "    \n",
    "    return input_real, input_z, learning_rate\n",
    "\n",
    "\n",
    "\"\"\"\n",
    "DON'T MODIFY ANYTHING IN THIS CELL THAT IS BELOW THIS LINE\n",
    "\"\"\"\n",
    "tests.test_model_inputs(model_inputs)"
   ]
  },
  {
   "cell_type": "markdown",
   "metadata": {},
   "source": [
    "### Discriminator\n",
    "Implement `discriminator` to create a discriminator neural network that discriminates on `images`.  This function should be able to reuse the variables in the neural network.  Use [`tf.variable_scope`](https://www.tensorflow.org/api_docs/python/tf/variable_scope) with a scope name of \"discriminator\" to allow the variables to be reused.  The function should return a tuple of (tensor output of the discriminator, tensor logits of the discriminator)."
   ]
  },
  {
   "cell_type": "code",
   "execution_count": null,
   "metadata": {},
   "outputs": [],
   "source": [
    "# 不可以指定卷积层与Batch Norm层的name，否则会报错：\n",
    "# ValueError: Variable conv1/kernel already exists, disallowed. \n",
    "# Did you mean to set reuse=True or reuse=tf.AUTO_REUSE in VarScope?\n",
    "# 遗留问题。\n",
    "    \n",
    "def discriminator(images, reuse=False):\n",
    "    \"\"\"\n",
    "    Create the discriminator network\n",
    "    :param images: Tensor of input image(s)\n",
    "    :param reuse: Boolean if the weights should be reused\n",
    "    :return: Tuple of (tensor output of the discriminator, tensor logits of the discriminator)\n",
    "    \"\"\"\n",
    "    with tf.variable_scope('discriminator', reuse=reuse):\n",
    "        # Layer 1\n",
    "        conv1 = tf.layers.conv2d(\n",
    "            inputs=images, \n",
    "            filters=64, \n",
    "            kernel_size=5, \n",
    "            strides=1,\n",
    "            padding='same')\n",
    "        \n",
    "        lr1 = tf.nn.leaky_relu(features=conv1, name='lk1')\n",
    "        \n",
    "        # Layer 2\n",
    "        conv2 = tf.layers.conv2d(\n",
    "            inputs=lr1, \n",
    "            filters=128, \n",
    "            kernel_size=5, \n",
    "            strides=2, \n",
    "            padding='same')\n",
    "        \n",
    "        bn2 = tf.layers.batch_normalization(inputs=conv2, training=True)\n",
    "        \n",
    "        lr2 = tf.nn.leaky_relu(features=bn2, name='lk2')\n",
    "        \n",
    "        # Layer 3\n",
    "        conv3 = tf.layers.conv2d(\n",
    "            inputs=lr2, \n",
    "            filters=256, \n",
    "            kernel_size=5, \n",
    "            strides=2, \n",
    "            padding='same')\n",
    "        \n",
    "        bn3 = tf.layers.batch_normalization(inputs=conv3, training=True)\n",
    "        \n",
    "        lr3 = tf.nn.leaky_relu(features=bn3, name='lk3')\n",
    "        \n",
    "        # Layer 4\n",
    "        flatten = tf.layers.flatten(inputs=lr3, name='flatten')\n",
    "        logits = tf.layers.dense(inputs=flatten, units=1)\n",
    "        output = tf.nn.sigmoid(logits)\n",
    "\n",
    "    return output, logits\n",
    "\n",
    "\n",
    "\n",
    "\"\"\"\n",
    "DON'T MODIFY ANYTHING IN THIS CELL THAT IS BELOW THIS LINE\n",
    "\"\"\"\n",
    "tests.test_discriminator(discriminator, tf)"
   ]
  },
  {
   "cell_type": "markdown",
   "metadata": {},
   "source": [
    "### Generator\n",
    "Implement `generator` to generate an image using `z`. This function should be able to reuse the variables in the neural network.  Use [`tf.variable_scope`](https://www.tensorflow.org/api_docs/python/tf/variable_scope) with a scope name of \"generator\" to allow the variables to be reused. The function should return the generated 28 x 28 x `out_channel_dim` images."
   ]
  },
  {
   "cell_type": "code",
   "execution_count": null,
   "metadata": {},
   "outputs": [],
   "source": [
    "def generator(z, out_channel_dim, is_train=True, reuse=False):\n",
    "    \"\"\"\n",
    "    Create the generator network\n",
    "    :param z: Input z\n",
    "    :param out_channel_dim: The number of channels in the output image\n",
    "    :param is_train: Boolean if generator is being used for training\n",
    "    :return: The tensor output of the generator\n",
    "    \"\"\"\n",
    "    if is_train is False:\n",
    "        reuse = True\n",
    "        \n",
    "    with tf.variable_scope('generator', reuse=reuse):\n",
    "        # Layer 1\n",
    "        dense1 = tf.layers.dense(inputs=z, units=4*4*512, activation=None)\n",
    "        seeds = tf.reshape(tensor=dense1, shape=(-1, 4, 4, 512), name='seeds')\n",
    "        bn1 = tf.layers.batch_normalization(inputs=seeds, training=is_train)\n",
    "        lk1 = tf.nn.leaky_relu(bn1, name='lk1')\n",
    "        # [4, 4, 512]\n",
    "        \n",
    "        # Layer 2\n",
    "        conv2 = tf.layers.conv2d_transpose(inputs=lk1, filters=256, kernel_size=4, strides=1, padding='valid')\n",
    "        bn2 = tf.layers.batch_normalization(inputs=conv2, training=is_train)\n",
    "        lk2 = tf.nn.leaky_relu(bn2, name='lk2')\n",
    "        # [7, 7, 256]\n",
    "        \n",
    "        # Layer 3\n",
    "        conv3 = tf.layers.conv2d_transpose(inputs=lk2, filters=128, kernel_size=3, strides=2, padding='same')\n",
    "        bn3 = tf.layers.batch_normalization(inputs=conv3, training=is_train)\n",
    "        lk3 = tf.nn.leaky_relu(bn3, name='lk3')\n",
    "        # [14, 14, 128]\n",
    "\n",
    "        # Layer 4 -> [28, 28, 3]\n",
    "        logits = tf.layers.conv2d_transpose(inputs=lk3, filters=out_channel_dim, kernel_size=5, strides=2, padding='same')\n",
    "        out = tf.tanh(logits)\n",
    "        \n",
    "    \n",
    "    return out\n",
    "\n",
    "\n",
    "\"\"\"\n",
    "DON'T MODIFY ANYTHING IN THIS CELL THAT IS BELOW THIS LINE\n",
    "\"\"\"\n",
    "tests.test_generator(generator, tf)"
   ]
  },
  {
   "cell_type": "markdown",
   "metadata": {},
   "source": [
    "### Loss\n",
    "Implement `model_loss` to build the GANs for training and calculate the loss.  The function should return a tuple of (discriminator loss, generator loss).  Use the following functions you implemented:\n",
    "- `discriminator(images, reuse=False)`\n",
    "- `generator(z, out_channel_dim, is_train=True)`"
   ]
  },
  {
   "cell_type": "code",
   "execution_count": null,
   "metadata": {},
   "outputs": [],
   "source": [
    "def model_loss(input_real, input_z, out_channel_dim):\n",
    "    \"\"\"\n",
    "    Get the loss for the discriminator and generator\n",
    "    :param input_real: Images from the real dataset\n",
    "    :param input_z: Z input\n",
    "    :param out_channel_dim: The number of channels in the output image\n",
    "    :return: A tuple of (discriminator loss, generator loss)\n",
    "    \"\"\"\n",
    "    # Generate fake image with generator\n",
    "    image_generated = generator(z= input_z, is_train=True, out_channel_dim=out_channel_dim)\n",
    "    \n",
    "    # Discriminator shows up.  Learn from real image..\n",
    "    estimation_from_real, logtis_real = discriminator(images=input_real, reuse=False)\n",
    "    # ..then the fake one.\n",
    "    estimation_from_fake, logits_fake = discriminator(images=image_generated, reuse=True)\n",
    "    \n",
    "    loss_d_real = tf.reduce_mean(\n",
    "        tf.nn.sigmoid_cross_entropy_with_logits(\n",
    "            logits=logtis_real, labels=tf.ones_like(estimation_from_real)))\n",
    "    \n",
    "    loss_d_fake = tf.reduce_mean(\n",
    "        tf.nn.sigmoid_cross_entropy_with_logits(\n",
    "            logits=logits_fake, labels=tf.zeros_like(estimation_from_fake)))\n",
    "    \n",
    "    loss_d = loss_d_real + loss_d_fake\n",
    "    \n",
    "    loss_g = tf.reduce_mean(\n",
    "        tf.nn.sigmoid_cross_entropy_with_logits(\n",
    "            logits=logits_fake, labels=tf.ones_like(estimation_from_fake)))\n",
    "    \n",
    "    return loss_d, loss_g\n",
    "\n",
    "\n",
    "\"\"\"\n",
    "DON'T MODIFY ANYTHING IN THIS CELL THAT IS BELOW THIS LINE\n",
    "\"\"\"\n",
    "tests.test_model_loss(model_loss)"
   ]
  },
  {
   "cell_type": "markdown",
   "metadata": {},
   "source": [
    "### Optimization\n",
    "Implement `model_opt` to create the optimization operations for the GANs. Use [`tf.trainable_variables`](https://www.tensorflow.org/api_docs/python/tf/trainable_variables) to get all the trainable variables.  Filter the variables with names that are in the discriminator and generator scope names.  The function should return a tuple of (discriminator training operation, generator training operation)."
   ]
  },
  {
   "cell_type": "code",
   "execution_count": null,
   "metadata": {},
   "outputs": [],
   "source": [
    "def model_opt(d_loss, g_loss, learning_rate, beta1):\n",
    "    \"\"\"\n",
    "    Get optimization operations\n",
    "    :param d_loss: Discriminator loss Tensor\n",
    "    :param g_loss: Generator loss Tensor\n",
    "    :param learning_rate: Learning Rate Placeholder\n",
    "    :param beta1: The exponential decay rate for the 1st moment in the optimizer\n",
    "    :return: A tuple of (discriminator training operation, generator training operation)\n",
    "    \"\"\"\n",
    "    var_d = tf.trainable_variables(scope='discriminator')\n",
    "    var_g = tf.trainable_variables(scope='generator')\n",
    "    \n",
    "    # Optimize\n",
    "    with tf.control_dependencies(tf.get_collection(tf.GraphKeys.UPDATE_OPS)):\n",
    "        train_op_d = tf.train.AdamOptimizer(learning_rate=learning_rate, beta1=beta1).minimize(d_loss, var_list=var_d)\n",
    "        train_op_g = tf.train.AdamOptimizer(learning_rate=learning_rate, beta1=beta1).minimize(g_loss, var_list=var_g)\n",
    "\n",
    "    return train_op_d, train_op_g\n",
    "\n",
    "\n",
    "\"\"\"\n",
    "DON'T MODIFY ANYTHING IN THIS CELL THAT IS BELOW THIS LINE\n",
    "\"\"\"\n",
    "tests.test_model_opt(model_opt, tf)"
   ]
  },
  {
   "cell_type": "markdown",
   "metadata": {},
   "source": [
    "## Neural Network Training\n",
    "### Show Output\n",
    "Use this function to show the current output of the generator during training. It will help you determine how well the GANs is training."
   ]
  },
  {
   "cell_type": "code",
   "execution_count": null,
   "metadata": {
    "collapsed": true
   },
   "outputs": [],
   "source": [
    "\"\"\"\n",
    "DON'T MODIFY ANYTHING IN THIS CELL\n",
    "\"\"\"\n",
    "import numpy as np\n",
    "\n",
    "def show_generator_output(sess, n_images, input_z, out_channel_dim, image_mode):\n",
    "    \"\"\"\n",
    "    Show example output for the generator\n",
    "    :param sess: TensorFlow session\n",
    "    :param n_images: Number of Images to display\n",
    "    :param input_z: Input Z Tensor\n",
    "    :param out_channel_dim: The number of channels in the output image\n",
    "    :param image_mode: The mode to use for images (\"RGB\" or \"L\")\n",
    "    \"\"\"\n",
    "    cmap = None if image_mode == 'RGB' else 'gray'\n",
    "    z_dim = input_z.get_shape().as_list()[-1]\n",
    "    example_z = np.random.uniform(-1, 1, size=[n_images, z_dim])\n",
    "\n",
    "    samples = sess.run(\n",
    "        generator(input_z, out_channel_dim, False),\n",
    "        feed_dict={input_z: example_z})\n",
    "\n",
    "    images_grid = helper.images_square_grid(samples, image_mode)\n",
    "    pyplot.imshow(images_grid, cmap=cmap)\n",
    "    pyplot.show()"
   ]
  },
  {
   "cell_type": "markdown",
   "metadata": {},
   "source": [
    "### Train\n",
    "Implement `train` to build and train the GANs.  Use the following functions you implemented:\n",
    "- `model_inputs(image_width, image_height, image_channels, z_dim)`\n",
    "- `model_loss(input_real, input_z, out_channel_dim)`\n",
    "- `model_opt(d_loss, g_loss, learning_rate, beta1)`\n",
    "\n",
    "Use the `show_generator_output` to show `generator` output while you train. Running `show_generator_output` for every batch will drastically increase training time and increase the size of the notebook.  It's recommended to print the `generator` output every 100 batches."
   ]
  },
  {
   "cell_type": "code",
   "execution_count": null,
   "metadata": {
    "collapsed": true
   },
   "outputs": [],
   "source": [
    "def train(epoch_count, batch_size, z_dim, learning_rate, beta1, get_batches, data_shape, data_image_mode):\n",
    "    \"\"\"\n",
    "    Train the GAN\n",
    "    :param epoch_count: Number of epochs\n",
    "    :param batch_size: Batch Size\n",
    "    :param z_dim: Z dimension\n",
    "    :param learning_rate: Learning Rate\n",
    "    :param beta1: The exponential decay rate for the 1st moment in the optimizer\n",
    "    :param get_batches: Function to get batches\n",
    "    :param data_shape: Shape of the data\n",
    "    :param data_image_mode: The image mode to use for images (\"RGB\" or \"L\")\n",
    "    \"\"\"\n",
    "    input_real, input_z, lr = model_inputs(\n",
    "        image_width=data_shape[1], \n",
    "        image_height=data_shape[2], \n",
    "        image_channels=data_shape[3], \n",
    "        z_dim=z_dim)\n",
    "    \n",
    "    loss_d, loss_g = model_loss(input_real=input_real, input_z=input_z, out_channel_dim=data_shape[3])\n",
    "\n",
    "    train_op_d, train_op_g = model_opt(d_loss=loss_d, g_loss=loss_g, beta1=beta1, learning_rate=learning_rate)\n",
    "    \n",
    "    steps = 0\n",
    "    \n",
    "    with tf.Session() as sess:\n",
    "        sess.run(tf.global_variables_initializer())\n",
    "        for epoch_i in range(epoch_count):\n",
    "            for batch_images in get_batches(batch_size):\n",
    "                steps += 1\n",
    "                \n",
    "                # Sample random noise for G\n",
    "                batch_z = np.random.uniform(-1, 1, size=(batch_size, z_dim))\n",
    "                \n",
    "                # Run optimizers\n",
    "                _ = sess.run(train_op_d, feed_dict={input_real: batch_images, input_z: batch_z})\n",
    "                _ = sess.run(train_op_g, feed_dict={input_z: batch_z, input_real: batch_images})\n",
    "                \n",
    "                if steps % 10 == 0:\n",
    "                    # At the end of each epoch, get the losses and print them out\n",
    "                    train_loss_d = loss_d.eval({input_z: batch_z, input_real: batch_images})\n",
    "                    train_loss_g = loss_g.eval({input_z: batch_z})\n",
    "\n",
    "                    print(\"Epoch {}/{}...\".format(epoch_i+1, epoch_count),\n",
    "                          \"Discriminator Loss: {:.4f}...\".format(train_loss_d),\n",
    "                          \"Generator Loss: {:.4f}\".format(train_loss_g))\n",
    "                \n",
    "                # Show generator output\n",
    "                if steps % 100 == 0:\n",
    "                    show_generator_output(\n",
    "                        image_mode=data_image_mode, \n",
    "                        sess=sess, \n",
    "                        input_z=input_z, \n",
    "                        n_images=batch_size, \n",
    "                        out_channel_dim=data_shape[3])\n",
    "                    \n",
    "            print('Epoch {} Done!'.format(epoch_i + 1))\n",
    "            \n",
    "        print(\"All done!\")    \n"
   ]
  },
  {
   "cell_type": "markdown",
   "metadata": {},
   "source": [
    "### MNIST\n",
    "Test your GANs architecture on MNIST.  After 2 epochs, the GANs should be able to generate images that look like handwritten digits.  Make sure the loss of the generator is lower than the loss of the discriminator or close to 0."
   ]
  },
  {
   "cell_type": "code",
   "execution_count": null,
   "metadata": {
    "scrolled": false
   },
   "outputs": [],
   "source": [
    "batch_size = 128\n",
    "z_dim = 100\n",
    "learning_rate = 0.01\n",
    "beta1 = 0.05\n",
    "\n",
    "\n",
    "\"\"\"\n",
    "DON'T MODIFY ANYTHING IN THIS CELL THAT IS BELOW THIS LINE\n",
    "\"\"\"\n",
    "epochs = 2\n",
    "\n",
    "mnist_dataset = helper.Dataset('mnist', glob(os.path.join(data_dir, 'mnist/*.jpg')))\n",
    "with tf.Graph().as_default():\n",
    "    train(epochs, batch_size, z_dim, learning_rate, beta1, mnist_dataset.get_batches,\n",
    "          mnist_dataset.shape, mnist_dataset.image_mode)"
   ]
  },
  {
   "cell_type": "markdown",
   "metadata": {},
   "source": [
    "### CelebA\n",
    "Run your GANs on CelebA.  It will take around 20 minutes on the average GPU to run one epoch.  You can run the whole epoch or stop when it starts to generate realistic faces."
   ]
  },
  {
   "cell_type": "code",
   "execution_count": null,
   "metadata": {
    "scrolled": true
   },
   "outputs": [],
   "source": [
    "batch_size = 256\n",
    "z_dim = 128\n",
    "learning_rate = 0.01\n",
    "beta1 = 0.2\n",
    "\n",
    "\n",
    "\"\"\"\n",
    "DON'T MODIFY ANYTHING IN THIS CELL THAT IS BELOW THIS LINE\n",
    "\"\"\"\n",
    "epochs = 1\n",
    "\n",
    "celeba_dataset = helper.Dataset('celeba', glob(os.path.join(data_dir, 'img_align_celeba/*.jpg')))\n",
    "with tf.Graph().as_default():\n",
    "    train(epochs, batch_size, z_dim, learning_rate, beta1, celeba_dataset.get_batches,\n",
    "          celeba_dataset.shape, celeba_dataset.image_mode)"
   ]
  },
  {
   "cell_type": "markdown",
   "metadata": {},
   "source": [
    "### Submitting This Project\n",
    "When submitting this project, make sure to run all the cells before saving the notebook. Save the notebook file as \"dlnd_face_generation.ipynb\" and save it as a HTML file under \"File\" -> \"Download as\". Include the \"helper.py\" and \"problem_unittests.py\" files in your submission."
   ]
  }
 ],
 "metadata": {
  "kernelspec": {
   "display_name": "Python 3",
   "language": "python",
   "name": "python3"
  },
  "language_info": {
   "codemirror_mode": {
    "name": "ipython",
    "version": 3
   },
   "file_extension": ".py",
   "mimetype": "text/x-python",
   "name": "python",
   "nbconvert_exporter": "python",
   "pygments_lexer": "ipython3",
   "version": "3.5.2"
  }
 },
 "nbformat": 4,
 "nbformat_minor": 1
}
